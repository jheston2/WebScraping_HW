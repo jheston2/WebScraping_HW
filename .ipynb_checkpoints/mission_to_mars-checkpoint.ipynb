{
 "cells": [
  {
   "cell_type": "code",
   "execution_count": 1,
   "metadata": {},
   "outputs": [],
   "source": [
    "from bs4 import BeautifulSoup\n",
    "import pandas as pd\n",
    "import requests\n",
    "import time\n",
    "from splinter import Browser"
   ]
  },
  {
   "cell_type": "code",
   "execution_count": 2,
   "metadata": {},
   "outputs": [
    {
     "data": {
      "text/plain": [
       "\"In January, Mars 2020 engineers and technicians took over JPL's cleanroom to put the mission's cruise, entry capsule, descent stage and rover through their paces.\""
      ]
     },
     "execution_count": 2,
     "metadata": {},
     "output_type": "execute_result"
    }
   ],
   "source": [
    "#NEWS\n",
    "url = 'https://mars.nasa.gov/api/v1/news_items/?page=0&per_page=40&order=publish_date+desc%2Ccreated_at+desc&search=&category=19%2C165%2C184%2C204&blank_scope=Latest'\n",
    "resp = requests.get(url)\n",
    "news_title = resp.json().get('items')[0].get('title')\n",
    "news_p = resp.json().get('items')[0].get('description')\n",
    "\n",
    "news_p"
   ]
  },
  {
   "cell_type": "code",
   "execution_count": 3,
   "metadata": {},
   "outputs": [
    {
     "data": {
      "text/plain": [
       "'https://www.jpl.nasa.gov/spaceimages/images/mediumsize/PIA19977_ip.jpg'"
      ]
     },
     "execution_count": 3,
     "metadata": {},
     "output_type": "execute_result"
    }
   ],
   "source": [
    "#IMAGE\n",
    "url = 'https://www.jpl.nasa.gov/spaceimages/?search=&category=Mars'\n",
    "resp = requests.get(url)\n",
    "soup = BeautifulSoup(resp.content,\"html.parser\")\n",
    "\n",
    "x = soup.find(\"div\", {\"class\": \"carousel_items\"}).find('article').find(\"a\", {\"class\":\"button fancybox\"}).get('data-fancybox-href')\n",
    "featured_image_url='https://www.jpl.nasa.gov'+ x\n",
    "featured_image_url"
   ]
  },
  {
   "cell_type": "code",
   "execution_count": 5,
   "metadata": {},
   "outputs": [
    {
     "data": {
      "text/plain": [
       "'InSight has detected microseisms for the first time on another planet https://www.hou.usra.edu/meetings/lpsc2019/pdf/2246.pdf\\xa0…pic.twitter.com/LNiNXEBYQY'"
      ]
     },
     "execution_count": 5,
     "metadata": {},
     "output_type": "execute_result"
    }
   ],
   "source": [
    "#WEATHER\n",
    "url = 'https://twitter.com/marswxreport?lang=en'\n",
    "resp = requests.get(url)\n",
    "soup = BeautifulSoup(resp.content,\"html.parser\")\n",
    "\n",
    "mars_weather = soup.find(\"p\", {\"class\": \"TweetTextSize TweetTextSize--normal js-tweet-text tweet-text\"}).get_text()\n",
    "mars_weather"
   ]
  },
  {
   "cell_type": "code",
   "execution_count": 6,
   "metadata": {},
   "outputs": [
    {
     "data": {
      "text/html": [
       "<div>\n",
       "<style scoped>\n",
       "    .dataframe tbody tr th:only-of-type {\n",
       "        vertical-align: middle;\n",
       "    }\n",
       "\n",
       "    .dataframe tbody tr th {\n",
       "        vertical-align: top;\n",
       "    }\n",
       "\n",
       "    .dataframe thead th {\n",
       "        text-align: right;\n",
       "    }\n",
       "</style>\n",
       "<table border=\"1\" class=\"dataframe\">\n",
       "  <thead>\n",
       "    <tr style=\"text-align: right;\">\n",
       "      <th></th>\n",
       "      <th>thing</th>\n",
       "      <th>value</th>\n",
       "    </tr>\n",
       "  </thead>\n",
       "  <tbody>\n",
       "    <tr>\n",
       "      <th>0</th>\n",
       "      <td>Equatorial Diameter:</td>\n",
       "      <td>6,792 km</td>\n",
       "    </tr>\n",
       "    <tr>\n",
       "      <th>1</th>\n",
       "      <td>Polar Diameter:</td>\n",
       "      <td>6,752 km</td>\n",
       "    </tr>\n",
       "    <tr>\n",
       "      <th>2</th>\n",
       "      <td>Mass:</td>\n",
       "      <td>6.42 x 10^23 kg (10.7% Earth)</td>\n",
       "    </tr>\n",
       "    <tr>\n",
       "      <th>3</th>\n",
       "      <td>Moons:</td>\n",
       "      <td>2 (Phobos &amp; Deimos)</td>\n",
       "    </tr>\n",
       "    <tr>\n",
       "      <th>4</th>\n",
       "      <td>Orbit Distance:</td>\n",
       "      <td>227,943,824 km (1.52 AU)</td>\n",
       "    </tr>\n",
       "    <tr>\n",
       "      <th>5</th>\n",
       "      <td>Orbit Period:</td>\n",
       "      <td>687 days (1.9 years)</td>\n",
       "    </tr>\n",
       "    <tr>\n",
       "      <th>6</th>\n",
       "      <td>Surface Temperature:</td>\n",
       "      <td>-153 to 20 °C</td>\n",
       "    </tr>\n",
       "    <tr>\n",
       "      <th>7</th>\n",
       "      <td>First Record:</td>\n",
       "      <td>2nd millennium BC</td>\n",
       "    </tr>\n",
       "    <tr>\n",
       "      <th>8</th>\n",
       "      <td>Recorded By:</td>\n",
       "      <td>Egyptian astronomers</td>\n",
       "    </tr>\n",
       "  </tbody>\n",
       "</table>\n",
       "</div>"
      ],
      "text/plain": [
       "                  thing                          value\n",
       "0  Equatorial Diameter:                       6,792 km\n",
       "1       Polar Diameter:                       6,752 km\n",
       "2                 Mass:  6.42 x 10^23 kg (10.7% Earth)\n",
       "3                Moons:            2 (Phobos & Deimos)\n",
       "4       Orbit Distance:       227,943,824 km (1.52 AU)\n",
       "5         Orbit Period:           687 days (1.9 years)\n",
       "6  Surface Temperature:                  -153 to 20 °C\n",
       "7         First Record:              2nd millennium BC\n",
       "8          Recorded By:           Egyptian astronomers"
      ]
     },
     "execution_count": 6,
     "metadata": {},
     "output_type": "execute_result"
    }
   ],
   "source": [
    "#SPACE FACTS TABLE\n",
    "url = 'https://space-facts.com/mars/'\n",
    "df = pd.read_html(url)\n",
    "data = df[0]\n",
    "data.columns = ['thing','value']\n",
    "\n",
    "data"
   ]
  },
  {
   "cell_type": "code",
   "execution_count": 8,
   "metadata": {},
   "outputs": [
    {
     "data": {
      "text/plain": [
       "[{'title': 'Cerberus Hemisphere Enhanced',\n",
       "  'img_url': 'http://astropedia.astrogeology.usgs.gov/download/Mars/Viking/cerberus_enhanced.tif/full.jpg'},\n",
       " {'title': 'Schiaparelli Hemisphere Enhanced',\n",
       "  'img_url': 'http://astropedia.astrogeology.usgs.gov/download/Mars/Viking/schiaparelli_enhanced.tif/full.jpg'},\n",
       " {'title': 'Syrtis Major Hemisphere Enhanced',\n",
       "  'img_url': 'http://astropedia.astrogeology.usgs.gov/download/Mars/Viking/syrtis_major_enhanced.tif/full.jpg'},\n",
       " {'title': 'Valles Marineris Hemisphere Enhanced',\n",
       "  'img_url': 'http://astropedia.astrogeology.usgs.gov/download/Mars/Viking/valles_marineris_enhanced.tif/full.jpg'}]"
      ]
     },
     "execution_count": 8,
     "metadata": {},
     "output_type": "execute_result"
    }
   ],
   "source": [
    "#HEMISPHERES\n",
    "url = 'https://astrogeology.usgs.gov/search/results?q=hemisphere+enhanced&k1=target&v1=Mars'\n",
    "executable_path = {'executable_path':'C:/Users/jhest/Desktop/DA_Files/WebScraping_HW/chromedriver'}\n",
    "browser = Browser('chrome', **executable_path)\n",
    "\n",
    "try:\n",
    "    browser.visit(url)\n",
    "    link = browser.find_link_by_partial_text('Cerberus')\n",
    "    link.click()\n",
    "    soup1 = BeautifulSoup(browser.html,\"html.parser\")\n",
    "    browser.back()\n",
    "    \n",
    "    link = browser.find_link_by_partial_text('Schiaparelli')\n",
    "    link.click()\n",
    "    soup2 = BeautifulSoup(browser.html,\"html.parser\")\n",
    "    browser.back()\n",
    "    \n",
    "    link = browser.find_link_by_partial_text('Syrtis')\n",
    "    link.click()\n",
    "    soup3 = BeautifulSoup(browser.html,\"html.parser\")\n",
    "    browser.back()\n",
    "    \n",
    "    link = browser.find_link_by_partial_text('Valles Marineris')\n",
    "    link.click()\n",
    "    soup4 = BeautifulSoup(browser.html,\"html.parser\")\n",
    "    browser.back()\n",
    "    \n",
    "except Exception as e:\n",
    "    print(e)\n",
    "finally:\n",
    "    browser.quit()\n",
    "    \n",
    "soup_list = [soup1,soup2,soup3,soup4]\n",
    "title_list = []\n",
    "href_list = []\n",
    "hemisphere_image_urls = []\n",
    "\n",
    "for soup in soup_list:\n",
    "    title_list.append(soup.find('h2', {'class':'title'}).get_text())\n",
    "    href_list.append(soup.find('a', {'target':'_blank'})['href'])\n",
    "\n",
    "for title, href in zip(title_list, href_list):\n",
    "    hemisphere_image_urls.append({\"title\": title, \"img_url\": href})\n",
    "\n",
    "hemisphere_image_urls"
   ]
  },
  {
   "cell_type": "code",
   "execution_count": null,
   "metadata": {},
   "outputs": [],
   "source": []
  }
 ],
 "metadata": {
  "kernelspec": {
   "display_name": "Python 3",
   "language": "python",
   "name": "python3"
  },
  "language_info": {
   "codemirror_mode": {
    "name": "ipython",
    "version": 3
   },
   "file_extension": ".py",
   "mimetype": "text/x-python",
   "name": "python",
   "nbconvert_exporter": "python",
   "pygments_lexer": "ipython3",
   "version": "3.7.0"
  }
 },
 "nbformat": 4,
 "nbformat_minor": 2
}
