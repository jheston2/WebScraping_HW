{
 "cells": [
  {
   "cell_type": "code",
   "execution_count": 10,
   "metadata": {},
   "outputs": [],
   "source": [
    "from bs4 import BeautifulSoup\n",
    "import pandas as pd\n",
    "import requests\n",
    "import time\n",
    "from splinter import Browser"
   ]
  },
  {
   "cell_type": "markdown",
   "metadata": {},
   "source": [
    "News"
   ]
  },
  {
   "cell_type": "code",
   "execution_count": 11,
   "metadata": {},
   "outputs": [],
   "source": [
    "news_url = 'https://mars.nasa.gov/news/'\n",
    "executable_path = {'executable_path':'/Users/Jack/Desktop/DA_Files/splinter_test/chromedriver'}\n",
    "browser = Browser('chrome', **executable_path)\n",
    "\n",
    "try:\n",
    "    browser.visit(news_url)\n",
    "    # browser.fill('q', 'splinter - python acceptance testing for web applications')\n",
    "    # button = browser.find_by_name('btnK')\n",
    "    time.sleep(2)\n",
    "    # button.click()\n",
    "    # for x in range(3):\n",
    "    #     links_found = browser.find_link_by_partial_text('Next')\n",
    "    #     time.sleep(1)\n",
    "    #     links_found[0].click()\n",
    "    # print(browser.html[:100])\n",
    "    soup = BeautifulSoup(browser.html,\"html.parser\")\n",
    "    \n",
    "except Exception as e:\n",
    "    print(e)\n",
    "finally:\n",
    "    browser.quit()\n"
   ]
  },
  {
   "cell_type": "code",
   "execution_count": 5,
   "metadata": {},
   "outputs": [
    {
     "data": {
      "text/plain": [
       "40"
      ]
     },
     "execution_count": 5,
     "metadata": {},
     "output_type": "execute_result"
    }
   ],
   "source": [
    "rows = soup.find_all(\"li\", {\"class\": \"slide\"})\n",
    "len(rows)"
   ]
  },
  {
   "cell_type": "code",
   "execution_count": 6,
   "metadata": {},
   "outputs": [],
   "source": [
    "def get_title_p(soup_object):\n",
    "    title = soup_object.find(\"div\", {\"class\": \"content_title\"}).get_text()\n",
    "    p = soup_object.find(\"div\", {\"class\": \"article_teaser_body\"}).get_text()\n",
    "    return {\"news_title\": title, \"news_p\": p}"
   ]
  },
  {
   "cell_type": "code",
   "execution_count": 7,
   "metadata": {},
   "outputs": [
    {
     "data": {
      "text/html": [
       "<div>\n",
       "<style scoped>\n",
       "    .dataframe tbody tr th:only-of-type {\n",
       "        vertical-align: middle;\n",
       "    }\n",
       "\n",
       "    .dataframe tbody tr th {\n",
       "        vertical-align: top;\n",
       "    }\n",
       "\n",
       "    .dataframe thead th {\n",
       "        text-align: right;\n",
       "    }\n",
       "</style>\n",
       "<table border=\"1\" class=\"dataframe\">\n",
       "  <thead>\n",
       "    <tr style=\"text-align: right;\">\n",
       "      <th></th>\n",
       "      <th>news_p</th>\n",
       "      <th>news_title</th>\n",
       "    </tr>\n",
       "  </thead>\n",
       "  <tbody>\n",
       "    <tr>\n",
       "      <th>0</th>\n",
       "      <td>NASA declared the record-setting rover's missi...</td>\n",
       "      <td>Opportunity's Parting Shot Was a Beautiful Pan...</td>\n",
       "    </tr>\n",
       "    <tr>\n",
       "      <th>1</th>\n",
       "      <td>Curiosity experienced a computer reset on its ...</td>\n",
       "      <td>Curiosity Resumes Operations After Switching C...</td>\n",
       "    </tr>\n",
       "    <tr>\n",
       "      <th>2</th>\n",
       "      <td>After the mission's heat probe began hammering...</td>\n",
       "      <td>Mars InSight Lander's 'Mole' Pauses Digging</td>\n",
       "    </tr>\n",
       "    <tr>\n",
       "      <th>3</th>\n",
       "      <td>Several members of the Mars InSight team accep...</td>\n",
       "      <td>InSight Lands Praise and a Proclamation from L...</td>\n",
       "    </tr>\n",
       "    <tr>\n",
       "      <th>4</th>\n",
       "      <td>By collecting data around the clock, NASA's la...</td>\n",
       "      <td>InSight Is the Newest Mars Weather Service</td>\n",
       "    </tr>\n",
       "  </tbody>\n",
       "</table>\n",
       "</div>"
      ],
      "text/plain": [
       "                                              news_p  \\\n",
       "0  NASA declared the record-setting rover's missi...   \n",
       "1  Curiosity experienced a computer reset on its ...   \n",
       "2  After the mission's heat probe began hammering...   \n",
       "3  Several members of the Mars InSight team accep...   \n",
       "4  By collecting data around the clock, NASA's la...   \n",
       "\n",
       "                                          news_title  \n",
       "0  Opportunity's Parting Shot Was a Beautiful Pan...  \n",
       "1  Curiosity Resumes Operations After Switching C...  \n",
       "2        Mars InSight Lander's 'Mole' Pauses Digging  \n",
       "3  InSight Lands Praise and a Proclamation from L...  \n",
       "4         InSight Is the Newest Mars Weather Service  "
      ]
     },
     "execution_count": 7,
     "metadata": {},
     "output_type": "execute_result"
    }
   ],
   "source": [
    "news_list = []\n",
    "\n",
    "for row in rows:\n",
    "    news_list.append(get_title_p(row))\n",
    "    \n",
    "df = pd.DataFrame(news_list)\n",
    "df.head()"
   ]
  },
  {
   "cell_type": "markdown",
   "metadata": {},
   "source": [
    "Images"
   ]
  },
  {
   "cell_type": "code",
   "execution_count": 37,
   "metadata": {},
   "outputs": [],
   "source": [
    "url = 'https://www.jpl.nasa.gov/spaceimages/?search=&category=Mars'\n",
    "executable_path = {'executable_path':'/Users/Jack/Desktop/DA_Files/splinter_test/chromedriver'}\n",
    "browser = Browser('chrome', **executable_path)\n",
    "\n",
    "try:\n",
    "    browser.visit(url)\n",
    "    button = browser.find_by_id('full_image')\n",
    "    time.sleep(1)\n",
    "    button.click()\n",
    "    time.sleep(3)\n",
    "    # for x in range(3):\n",
    "    #     links_found = browser.find_link_by_partial_text('Next')\n",
    "    #     time.sleep(1)\n",
    "    #     links_found[0].click()\n",
    "    # print(browser.html[:100])\n",
    "    soup = BeautifulSoup(browser.html,\"html.parser\")\n",
    "    \n",
    "except Exception as e:\n",
    "    print(e)\n",
    "finally:\n",
    "    browser.quit()"
   ]
  },
  {
   "cell_type": "code",
   "execution_count": 38,
   "metadata": {},
   "outputs": [
    {
     "data": {
      "text/plain": [
       "'https://www.jpl.nasa.gov/spaceimages/images/mediumsize/PIA17448_ip.jpg'"
      ]
     },
     "execution_count": 38,
     "metadata": {},
     "output_type": "execute_result"
    }
   ],
   "source": [
    "# full sized image doesn't appear to be available, at least not for all featured images.\n",
    "\n",
    "featured_image_url_end = soup.find(\"img\", {\"class\": \"fancybox-image\"})['src']\n",
    "featured_image_url = 'https://www.jpl.nasa.gov'+ featured_image_url_end\n",
    "featured_image_url"
   ]
  },
  {
   "cell_type": "markdown",
   "metadata": {},
   "source": [
    "Weather"
   ]
  },
  {
   "cell_type": "code",
   "execution_count": 40,
   "metadata": {},
   "outputs": [],
   "source": [
    "url = 'https://twitter.com/marswxreport?lang=en'\n",
    "executable_path = {'executable_path':'/Users/Jack/Desktop/DA_Files/splinter_test/chromedriver'}\n",
    "browser = Browser('chrome', **executable_path)\n",
    "\n",
    "try:\n",
    "    browser.visit(url)\n",
    "    time.sleep(1)\n",
    "    # for x in range(3):\n",
    "    #     links_found = browser.find_link_by_partial_text('Next')\n",
    "    #     time.sleep(1)\n",
    "    #     links_found[0].click()\n",
    "    # print(browser.html[:100])\n",
    "    soup = BeautifulSoup(browser.html,\"html.parser\")\n",
    "    \n",
    "except Exception as e:\n",
    "    print(e)\n",
    "finally:\n",
    "    browser.quit()"
   ]
  },
  {
   "cell_type": "code",
   "execution_count": 46,
   "metadata": {},
   "outputs": [
    {
     "data": {
      "text/plain": [
       "'InSight sol 104 (2019-03-13) low -96.1ºC (-141.0ºF) high -14.4ºC (6.1ºF)\\nwinds from the WNW at 4.2 m/s (9.5 mph) gusting to 11.1 m/s (24.8 mph)\\npressure at 7.20 hPapic.twitter.com/kWqcOLSo1I'"
      ]
     },
     "execution_count": 46,
     "metadata": {},
     "output_type": "execute_result"
    }
   ],
   "source": [
    "mars_weather = soup.find(\"p\", {\"class\": \"TweetTextSize TweetTextSize--normal js-tweet-text tweet-text\"}).get_text()\n",
    "mars_weather\n"
   ]
  },
  {
   "cell_type": "markdown",
   "metadata": {},
   "source": [
    "Mars Facts"
   ]
  },
  {
   "cell_type": "code",
   "execution_count": 140,
   "metadata": {},
   "outputs": [],
   "source": [
    "url = 'https://space-facts.com/mars/'\n",
    "executable_path = {'executable_path':'/Users/Jack/Desktop/DA_Files/splinter_test/chromedriver'}\n",
    "browser = Browser('chrome', **executable_path)\n",
    "\n",
    "try:\n",
    "    browser.visit(url)\n",
    "    time.sleep(1)\n",
    "    # for x in range(3):\n",
    "    #     links_found = browser.find_link_by_partial_text('Next')\n",
    "    #     time.sleep(1)\n",
    "    #     links_found[0].click()\n",
    "    # print(browser.html[:100])\n",
    "    soup = BeautifulSoup(browser.html,\"html.parser\")\n",
    "    \n",
    "except Exception as e:\n",
    "    print(e)\n",
    "finally:\n",
    "    browser.quit()"
   ]
  },
  {
   "cell_type": "code",
   "execution_count": 142,
   "metadata": {},
   "outputs": [
    {
     "data": {
      "text/plain": [
       "[['Equatorial Diameter', '6,792 km'],\n",
       " ['Polar Diameter', '6,752 km'],\n",
       " ['Mass', '6.42 x 10^23 kg (10.7% Earth)'],\n",
       " ['Moons', '2 (Phobos & Deimos)'],\n",
       " ['Orbit Distance', '227,943,824 km (1.52 AU)'],\n",
       " ['Orbit Period', '687 days (1.9 years)'],\n",
       " ['Surface Temperature', ' -153 to 20 °C'],\n",
       " ['First Record', '2nd millennium BC'],\n",
       " ['Recorded By', 'Egyptian astronomers']]"
      ]
     },
     "execution_count": 142,
     "metadata": {},
     "output_type": "execute_result"
    }
   ],
   "source": [
    "list1 = []\n",
    "table = soup.find_all('tr')\n",
    "table[2].get_text()\n",
    "\n",
    "for row in table:\n",
    "    list1.append(row.get_text().replace('\\n','').split(':'))\n",
    "\n",
    "list1"
   ]
  },
  {
   "cell_type": "code",
   "execution_count": 143,
   "metadata": {},
   "outputs": [
    {
     "data": {
      "text/html": [
       "<div>\n",
       "<style scoped>\n",
       "    .dataframe tbody tr th:only-of-type {\n",
       "        vertical-align: middle;\n",
       "    }\n",
       "\n",
       "    .dataframe tbody tr th {\n",
       "        vertical-align: top;\n",
       "    }\n",
       "\n",
       "    .dataframe thead th {\n",
       "        text-align: right;\n",
       "    }\n",
       "</style>\n",
       "<table border=\"1\" class=\"dataframe\">\n",
       "  <thead>\n",
       "    <tr style=\"text-align: right;\">\n",
       "      <th></th>\n",
       "      <th>thing</th>\n",
       "      <th>value</th>\n",
       "    </tr>\n",
       "  </thead>\n",
       "  <tbody>\n",
       "    <tr>\n",
       "      <th>0</th>\n",
       "      <td>Equatorial Diameter</td>\n",
       "      <td>6,792 km</td>\n",
       "    </tr>\n",
       "    <tr>\n",
       "      <th>1</th>\n",
       "      <td>Polar Diameter</td>\n",
       "      <td>6,752 km</td>\n",
       "    </tr>\n",
       "    <tr>\n",
       "      <th>2</th>\n",
       "      <td>Mass</td>\n",
       "      <td>6.42 x 10^23 kg (10.7% Earth)</td>\n",
       "    </tr>\n",
       "    <tr>\n",
       "      <th>3</th>\n",
       "      <td>Moons</td>\n",
       "      <td>2 (Phobos &amp; Deimos)</td>\n",
       "    </tr>\n",
       "    <tr>\n",
       "      <th>4</th>\n",
       "      <td>Orbit Distance</td>\n",
       "      <td>227,943,824 km (1.52 AU)</td>\n",
       "    </tr>\n",
       "    <tr>\n",
       "      <th>5</th>\n",
       "      <td>Orbit Period</td>\n",
       "      <td>687 days (1.9 years)</td>\n",
       "    </tr>\n",
       "    <tr>\n",
       "      <th>6</th>\n",
       "      <td>Surface Temperature</td>\n",
       "      <td>-153 to 20 °C</td>\n",
       "    </tr>\n",
       "    <tr>\n",
       "      <th>7</th>\n",
       "      <td>First Record</td>\n",
       "      <td>2nd millennium BC</td>\n",
       "    </tr>\n",
       "    <tr>\n",
       "      <th>8</th>\n",
       "      <td>Recorded By</td>\n",
       "      <td>Egyptian astronomers</td>\n",
       "    </tr>\n",
       "  </tbody>\n",
       "</table>\n",
       "</div>"
      ],
      "text/plain": [
       "                 thing                          value\n",
       "0  Equatorial Diameter                       6,792 km\n",
       "1       Polar Diameter                       6,752 km\n",
       "2                 Mass  6.42 x 10^23 kg (10.7% Earth)\n",
       "3                Moons            2 (Phobos & Deimos)\n",
       "4       Orbit Distance       227,943,824 km (1.52 AU)\n",
       "5         Orbit Period           687 days (1.9 years)\n",
       "6  Surface Temperature                  -153 to 20 °C\n",
       "7         First Record              2nd millennium BC\n",
       "8          Recorded By           Egyptian astronomers"
      ]
     },
     "execution_count": 143,
     "metadata": {},
     "output_type": "execute_result"
    }
   ],
   "source": [
    "# I couldn't figure out what an HTML table string is, so I created a df with pandas\n",
    "\n",
    "df = pd.DataFrame(list1)\n",
    "df.columns = ['thing','value']\n",
    "df"
   ]
  },
  {
   "cell_type": "markdown",
   "metadata": {},
   "source": [
    "Mars Hemispheres"
   ]
  },
  {
   "cell_type": "code",
   "execution_count": 12,
   "metadata": {},
   "outputs": [],
   "source": [
    "url = 'https://astrogeology.usgs.gov/search/results?q=hemisphere+enhanced&k1=target&v1=Mars'\n",
    "executable_path = {'executable_path':'/Users/Jack/Desktop/DA_Files/splinter_test/chromedriver'}\n",
    "browser = Browser('chrome', **executable_path)\n",
    "\n",
    "try:\n",
    "    browser.visit(url)\n",
    "    time.sleep(1)\n",
    "    link = browser.find_link_by_partial_text('Cerberus')\n",
    "    link.click()\n",
    "    time.sleep(1)\n",
    "    soup1 = BeautifulSoup(browser.html,\"html.parser\")\n",
    "    browser.back()\n",
    "    time.sleep(1)\n",
    "    \n",
    "    link = browser.find_link_by_partial_text('Schiaparelli')\n",
    "    link.click()\n",
    "    time.sleep(1)\n",
    "    soup2 = BeautifulSoup(browser.html,\"html.parser\")\n",
    "    browser.back()\n",
    "    time.sleep(1)\n",
    "    \n",
    "    link = browser.find_link_by_partial_text('Syrtis')\n",
    "    link.click()\n",
    "    time.sleep(1)\n",
    "    soup3 = BeautifulSoup(browser.html,\"html.parser\")\n",
    "    browser.back()\n",
    "    time.sleep(1)\n",
    "    \n",
    "    link = browser.find_link_by_partial_text('Valles Marineris')\n",
    "    link.click()\n",
    "    time.sleep(1)\n",
    "    soup4 = BeautifulSoup(browser.html,\"html.parser\")\n",
    "    browser.back()\n",
    "    time.sleep(1)\n",
    "    \n",
    "except Exception as e:\n",
    "    print(e)\n",
    "finally:\n",
    "    browser.quit()"
   ]
  },
  {
   "cell_type": "code",
   "execution_count": 192,
   "metadata": {},
   "outputs": [],
   "source": [
    "soup_list = [soup1,soup2,soup3,soup4]\n",
    "title_list = []\n",
    "href_list = []\n",
    "\n",
    "for soup in soup_list:\n",
    "    title_list.append(soup.find('h2', {'class':'title'}).get_text())\n",
    "    href_list.append(soup.find('a', {'target':'_blank'})['href'])"
   ]
  },
  {
   "cell_type": "code",
   "execution_count": 193,
   "metadata": {},
   "outputs": [
    {
     "data": {
      "text/plain": [
       "[{'title': 'Cerberus Hemisphere Enhanced',\n",
       "  'img_url': 'http://astropedia.astrogeology.usgs.gov/download/Mars/Viking/cerberus_enhanced.tif/full.jpg'},\n",
       " {'title': 'Schiaparelli Hemisphere Enhanced',\n",
       "  'img_url': 'http://astropedia.astrogeology.usgs.gov/download/Mars/Viking/schiaparelli_enhanced.tif/full.jpg'},\n",
       " {'title': 'Syrtis Major Hemisphere Enhanced',\n",
       "  'img_url': 'http://astropedia.astrogeology.usgs.gov/download/Mars/Viking/syrtis_major_enhanced.tif/full.jpg'},\n",
       " {'title': 'Valles Marineris Hemisphere Enhanced',\n",
       "  'img_url': 'http://astropedia.astrogeology.usgs.gov/download/Mars/Viking/valles_marineris_enhanced.tif/full.jpg'}]"
      ]
     },
     "execution_count": 193,
     "metadata": {},
     "output_type": "execute_result"
    }
   ],
   "source": [
    "hemisphere_image_urls = []\n",
    "\n",
    "for title, href in zip(title_list, href_list):\n",
    "    hemisphere_image_urls.append({\"title\": title, \"img_url\": href})\n",
    "\n",
    "hemisphere_image_urls"
   ]
  },
  {
   "cell_type": "code",
   "execution_count": 2,
   "metadata": {},
   "outputs": [
    {
     "ename": "NameError",
     "evalue": "name 'soup' is not defined",
     "output_type": "error",
     "traceback": [
      "\u001b[1;31m---------------------------------------------------------------------------\u001b[0m",
      "\u001b[1;31mNameError\u001b[0m                                 Traceback (most recent call last)",
      "\u001b[1;32m<ipython-input-2-468935a8f34d>\u001b[0m in \u001b[0;36m<module>\u001b[1;34m()\u001b[0m\n\u001b[1;32m----> 1\u001b[1;33m \u001b[0msoup\u001b[0m\u001b[1;33m\u001b[0m\u001b[0m\n\u001b[0m",
      "\u001b[1;31mNameError\u001b[0m: name 'soup' is not defined"
     ]
    }
   ],
   "source": [
    "soup"
   ]
  },
  {
   "cell_type": "code",
   "execution_count": null,
   "metadata": {},
   "outputs": [],
   "source": []
  }
 ],
 "metadata": {
  "kernelspec": {
   "display_name": "Python 3",
   "language": "python",
   "name": "python3"
  },
  "language_info": {
   "codemirror_mode": {
    "name": "ipython",
    "version": 3
   },
   "file_extension": ".py",
   "mimetype": "text/x-python",
   "name": "python",
   "nbconvert_exporter": "python",
   "pygments_lexer": "ipython3",
   "version": "3.7.0"
  }
 },
 "nbformat": 4,
 "nbformat_minor": 2
}
