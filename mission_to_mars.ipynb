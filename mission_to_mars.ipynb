{
 "cells": [
  {
   "cell_type": "code",
   "execution_count": 146,
   "metadata": {},
   "outputs": [],
   "source": [
    "from bs4 import BeautifulSoup\n",
    "import pandas as pd\n",
    "import requests\n",
    "import time\n",
    "from splinter import Browser"
   ]
  },
  {
   "cell_type": "code",
   "execution_count": 96,
   "metadata": {},
   "outputs": [
    {
     "data": {
      "text/plain": [
       "\"In January, Mars 2020 engineers and technicians took over JPL's cleanroom to put the mission's cruise, entry capsule, descent stage and rover through their paces.\""
      ]
     },
     "execution_count": 96,
     "metadata": {},
     "output_type": "execute_result"
    }
   ],
   "source": [
    "#NEWS\n",
    "url = 'https://mars.nasa.gov/api/v1/news_items/?page=0&per_page=40&order=publish_date+desc%2Ccreated_at+desc&search=&category=19%2C165%2C184%2C204&blank_scope=Latest'\n",
    "resp = requests.get(url)\n",
    "news_title = resp.json().get('items')[0].get('title')\n",
    "news_p = resp.json().get('items')[0].get('description')\n",
    "\n",
    "news_p"
   ]
  },
  {
   "cell_type": "code",
   "execution_count": 126,
   "metadata": {},
   "outputs": [
    {
     "data": {
      "text/plain": [
       "'https://www.jpl.nasa.gov/spaceimages/images/mediumsize/PIA16101_ip.jpg'"
      ]
     },
     "execution_count": 126,
     "metadata": {},
     "output_type": "execute_result"
    }
   ],
   "source": [
    "#IMAGE\n",
    "url = 'https://www.jpl.nasa.gov/spaceimages/?search=&category=Mars'\n",
    "resp = requests.get(url)\n",
    "soup = BeautifulSoup(resp.content,\"html.parser\")\n",
    "\n",
    "x = soup.find(\"div\", {\"class\": \"carousel_items\"}).find('article').find(\"a\", {\"class\":\"button fancybox\"}).get('data-fancybox-href')\n",
    "featured_image_url='https://www.jpl.nasa.gov'+ x\n",
    "featured_image_url"
   ]
  },
  {
   "cell_type": "code",
   "execution_count": 103,
   "metadata": {},
   "outputs": [
    {
     "data": {
      "text/plain": [
       "'InSight has detected microseisms for the first time on another planet https://www.hou.usra.edu/meetings/lpsc2019/pdf/2246.pdf\\xa0…pic.twitter.com/LNiNXEBYQY'"
      ]
     },
     "execution_count": 103,
     "metadata": {},
     "output_type": "execute_result"
    }
   ],
   "source": [
    "#WEATHER\n",
    "url = 'https://twitter.com/marswxreport?lang=en'\n",
    "resp = requests.get(url)\n",
    "soup = BeautifulSoup(resp.content,\"html.parser\")\n",
    "\n",
    "mars_weather = soup.find(\"p\", {\"class\": \"TweetTextSize TweetTextSize--normal js-tweet-text tweet-text\"}).get_text()\n",
    "mars_weather"
   ]
  },
  {
   "cell_type": "code",
   "execution_count": 148,
   "metadata": {},
   "outputs": [
    {
     "data": {
      "text/plain": [
       "0    Equatorial Diameter:\n",
       "1         Polar Diameter:\n",
       "2                   Mass:\n",
       "3                  Moons:\n",
       "4         Orbit Distance:\n",
       "5           Orbit Period:\n",
       "6    Surface Temperature:\n",
       "7           First Record:\n",
       "8            Recorded By:\n",
       "Name: thing, dtype: object"
      ]
     },
     "execution_count": 148,
     "metadata": {},
     "output_type": "execute_result"
    }
   ],
   "source": [
    "#SPACE FACTS TABLE\n",
    "url = 'https://space-facts.com/mars/'\n",
    "df = pd.read_html(url)\n",
    "data = df[0]\n",
    "data.columns = ['thing','value']\n",
    "\n",
    "data"
   ]
  },
  {
   "cell_type": "code",
   "execution_count": 147,
   "metadata": {},
   "outputs": [
    {
     "data": {
      "text/plain": [
       "[{'title': 'Cerberus Hemisphere Enhanced',\n",
       "  'img_url': 'http://astropedia.astrogeology.usgs.gov/download/Mars/Viking/cerberus_enhanced.tif/full.jpg'},\n",
       " {'title': 'Schiaparelli Hemisphere Enhanced',\n",
       "  'img_url': 'http://astropedia.astrogeology.usgs.gov/download/Mars/Viking/schiaparelli_enhanced.tif/full.jpg'},\n",
       " {'title': 'Syrtis Major Hemisphere Enhanced',\n",
       "  'img_url': 'http://astropedia.astrogeology.usgs.gov/download/Mars/Viking/syrtis_major_enhanced.tif/full.jpg'},\n",
       " {'title': 'Valles Marineris Hemisphere Enhanced',\n",
       "  'img_url': 'http://astropedia.astrogeology.usgs.gov/download/Mars/Viking/valles_marineris_enhanced.tif/full.jpg'}]"
      ]
     },
     "execution_count": 147,
     "metadata": {},
     "output_type": "execute_result"
    }
   ],
   "source": [
    "#HEMISPHERES\n",
    "url = 'https://astrogeology.usgs.gov/search/results?q=hemisphere+enhanced&k1=target&v1=Mars'\n",
    "executable_path = {'executable_path':'/Users/Jack/Desktop/DA_Files/splinter_test/chromedriver'}\n",
    "browser = Browser('chrome', **executable_path)\n",
    "\n",
    "try:\n",
    "    browser.visit(url)\n",
    "    time.sleep(1)\n",
    "    link = browser.find_link_by_partial_text('Cerberus')\n",
    "    link.click()\n",
    "    time.sleep(1)\n",
    "    soup1 = BeautifulSoup(browser.html,\"html.parser\")\n",
    "    browser.back()\n",
    "    time.sleep(1)\n",
    "    \n",
    "    link = browser.find_link_by_partial_text('Schiaparelli')\n",
    "    link.click()\n",
    "    time.sleep(1)\n",
    "    soup2 = BeautifulSoup(browser.html,\"html.parser\")\n",
    "    browser.back()\n",
    "    time.sleep(1)\n",
    "    \n",
    "    link = browser.find_link_by_partial_text('Syrtis')\n",
    "    link.click()\n",
    "    time.sleep(1)\n",
    "    soup3 = BeautifulSoup(browser.html,\"html.parser\")\n",
    "    browser.back()\n",
    "    time.sleep(1)\n",
    "    \n",
    "    link = browser.find_link_by_partial_text('Valles Marineris')\n",
    "    link.click()\n",
    "    time.sleep(1)\n",
    "    soup4 = BeautifulSoup(browser.html,\"html.parser\")\n",
    "    browser.back()\n",
    "    time.sleep(1)\n",
    "    \n",
    "except Exception as e:\n",
    "    print(e)\n",
    "finally:\n",
    "    browser.quit()\n",
    "    \n",
    "soup_list = [soup1,soup2,soup3,soup4]\n",
    "title_list = []\n",
    "href_list = []\n",
    "hemisphere_image_urls = []\n",
    "\n",
    "for soup in soup_list:\n",
    "    title_list.append(soup.find('h2', {'class':'title'}).get_text())\n",
    "    href_list.append(soup.find('a', {'target':'_blank'})['href'])\n",
    "\n",
    "for title, href in zip(title_list, href_list):\n",
    "    hemisphere_image_urls.append({\"title\": title, \"img_url\": href})\n",
    "\n",
    "hemisphere_image_urls"
   ]
  },
  {
   "cell_type": "code",
   "execution_count": null,
   "metadata": {},
   "outputs": [],
   "source": []
  }
 ],
 "metadata": {
  "kernelspec": {
   "display_name": "Python 3",
   "language": "python",
   "name": "python3"
  },
  "language_info": {
   "codemirror_mode": {
    "name": "ipython",
    "version": 3
   },
   "file_extension": ".py",
   "mimetype": "text/x-python",
   "name": "python",
   "nbconvert_exporter": "python",
   "pygments_lexer": "ipython3",
   "version": "3.7.0"
  }
 },
 "nbformat": 4,
 "nbformat_minor": 2
}
